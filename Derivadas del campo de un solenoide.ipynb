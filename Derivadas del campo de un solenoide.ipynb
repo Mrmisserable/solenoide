{
 "cells": [
  {
   "cell_type": "markdown",
   "id": "ea2810a6-1660-4ba5-a1dc-5ee00d716d0e",
   "metadata": {},
   "source": [
    "# Derivadas del campo producido por un solenoide simbólicamente\n",
    "\n",
    "Necesitamos unas derivadas del campo que produce un solenoide, la segunda forma produce un resultado más compacto."
   ]
  },
  {
   "cell_type": "code",
   "execution_count": 1,
   "id": "25237a49-94ad-4860-8feb-4255a08c681d",
   "metadata": {},
   "outputs": [],
   "source": [
    "import sympy as smp"
   ]
  },
  {
   "cell_type": "markdown",
   "id": "2cd62ab4-d5bf-4954-b20f-55a042004226",
   "metadata": {},
   "source": [
    "## Primera forma"
   ]
  },
  {
   "cell_type": "code",
   "execution_count": 2,
   "id": "8a731f03-0c53-430a-ba14-0b7662eeab97",
   "metadata": {},
   "outputs": [],
   "source": [
    "# Define símbolos\n",
    "mu_0, N, I, L, R, z, z_0 = smp.symbols(r\"\\mu_0 N I L R z z_0\", real=True)"
   ]
  },
  {
   "cell_type": "code",
   "execution_count": 3,
   "id": "5c558ae8-9bc5-4721-9b9a-74713d6eaba8",
   "metadata": {},
   "outputs": [],
   "source": [
    "# Define magnitudes secundáreas\n",
    "a = z - z_0 + L/2\n",
    "b = z - z_0 - L/2\n",
    "A = smp.sqrt(a**2 + R**2)\n",
    "B = smp.sqrt(b**2 + R**2)"
   ]
  },
  {
   "cell_type": "code",
   "execution_count": 4,
   "id": "2462405f-59e5-4a32-8d7a-ed2f1b8be4dc",
   "metadata": {},
   "outputs": [
    {
     "data": {
      "text/latex": [
       "$\\displaystyle \\frac{I N \\mu_{0} \\left(\\frac{\\frac{L}{2} + z - z_{0}}{\\sqrt{R^{2} + \\left(\\frac{L}{2} + z - z_{0}\\right)^{2}}} - \\frac{- \\frac{L}{2} + z - z_{0}}{\\sqrt{R^{2} + \\left(- \\frac{L}{2} + z - z_{0}\\right)^{2}}}\\right)}{2 L}$"
      ],
      "text/plain": [
       "I*N*\\mu_0*((L/2 + z - z_0)/sqrt(R**2 + (L/2 + z - z_0)**2) - (-L/2 + z - z_0)/sqrt(R**2 + (-L/2 + z - z_0)**2))/(2*L)"
      ]
     },
     "execution_count": 4,
     "metadata": {},
     "output_type": "execute_result"
    }
   ],
   "source": [
    "# Define el campo\n",
    "campo = (mu_0/2)*(N*I/L)*(a/A - b/B)\n",
    "campo"
   ]
  },
  {
   "cell_type": "markdown",
   "id": "c6592624-f191-43cd-a935-bbde9650b64b",
   "metadata": {},
   "source": [
    "Necesitamos las derivadas de $B$ con respecto a los parámetros que vamos a ajustar, que son $\\mu_0$ y $z_0$"
   ]
  },
  {
   "cell_type": "code",
   "execution_count": 5,
   "id": "a9ae781e-74cc-4731-9ff1-767d9f30bf73",
   "metadata": {},
   "outputs": [
    {
     "data": {
      "text/latex": [
       "$\\displaystyle \\frac{I N \\left(\\frac{\\frac{L}{2} + z - z_{0}}{\\sqrt{R^{2} + \\left(\\frac{L}{2} + z - z_{0}\\right)^{2}}} - \\frac{- \\frac{L}{2} + z - z_{0}}{\\sqrt{R^{2} + \\left(- \\frac{L}{2} + z - z_{0}\\right)^{2}}}\\right)}{2 L}$"
      ],
      "text/plain": [
       "I*N*((L/2 + z - z_0)/sqrt(R**2 + (L/2 + z - z_0)**2) - (-L/2 + z - z_0)/sqrt(R**2 + (-L/2 + z - z_0)**2))/(2*L)"
      ]
     },
     "execution_count": 5,
     "metadata": {},
     "output_type": "execute_result"
    }
   ],
   "source": [
    "D_1 = campo.diff(mu_0) # Muy sencilla\n",
    "D_1"
   ]
  },
  {
   "cell_type": "code",
   "execution_count": 6,
   "id": "2288bd53-7be7-40b5-ab52-069a22411ab2",
   "metadata": {},
   "outputs": [
    {
     "data": {
      "text/latex": [
       "$\\displaystyle \\frac{I N \\mu_{0} \\left(- \\frac{1}{\\sqrt{R^{2} + \\left(\\frac{L}{2} + z - z_{0}\\right)^{2}}} + \\frac{\\left(\\frac{L}{2} + z - z_{0}\\right)^{2}}{\\left(R^{2} + \\left(\\frac{L}{2} + z - z_{0}\\right)^{2}\\right)^{\\frac{3}{2}}} + \\frac{1}{\\sqrt{R^{2} + \\left(- \\frac{L}{2} + z - z_{0}\\right)^{2}}} - \\frac{\\left(- \\frac{L}{2} + z - z_{0}\\right)^{2}}{\\left(R^{2} + \\left(- \\frac{L}{2} + z - z_{0}\\right)^{2}\\right)^{\\frac{3}{2}}}\\right)}{2 L}$"
      ],
      "text/plain": [
       "I*N*\\mu_0*(-1/sqrt(R**2 + (L/2 + z - z_0)**2) + (L/2 + z - z_0)**2/(R**2 + (L/2 + z - z_0)**2)**(3/2) + 1/sqrt(R**2 + (-L/2 + z - z_0)**2) - (-L/2 + z - z_0)**2/(R**2 + (-L/2 + z - z_0)**2)**(3/2))/(2*L)"
      ]
     },
     "execution_count": 6,
     "metadata": {},
     "output_type": "execute_result"
    }
   ],
   "source": [
    "D_2 = campo.diff(z_0)\n",
    "D_2"
   ]
  },
  {
   "cell_type": "markdown",
   "id": "ca6d8d2e-bd8f-47f9-b6d2-7e00f86b4e31",
   "metadata": {},
   "source": [
    "Podemos pedir que simplifique la expresion (Que lo consiga es otra cosa)"
   ]
  },
  {
   "cell_type": "code",
   "execution_count": 7,
   "id": "b031c0b7-e684-49c3-980d-c1c88e3c01ea",
   "metadata": {},
   "outputs": [
    {
     "data": {
      "text/latex": [
       "$\\displaystyle - \\frac{I N \\mu_{0}}{L \\sqrt{4 R^{2} + \\left(L + 2 z - 2 z_{0}\\right)^{2}}} + \\frac{I N \\mu_{0} \\left(L + 2 z - 2 z_{0}\\right)^{2}}{L \\left(4 R^{2} + \\left(L + 2 z - 2 z_{0}\\right)^{2}\\right)^{\\frac{3}{2}}} + \\frac{I N \\mu_{0}}{L \\sqrt{4 R^{2} + \\left(L - 2 z + 2 z_{0}\\right)^{2}}} - \\frac{I N \\mu_{0} \\left(L - 2 z + 2 z_{0}\\right)^{2}}{L \\left(4 R^{2} + \\left(L - 2 z + 2 z_{0}\\right)^{2}\\right)^{\\frac{3}{2}}}$"
      ],
      "text/plain": [
       "-I*N*\\mu_0/(L*sqrt(4*R**2 + (L + 2*z - 2*z_0)**2)) + I*N*\\mu_0*(L + 2*z - 2*z_0)**2/(L*(4*R**2 + (L + 2*z - 2*z_0)**2)**(3/2)) + I*N*\\mu_0/(L*sqrt(4*R**2 + (L - 2*z + 2*z_0)**2)) - I*N*\\mu_0*(L - 2*z + 2*z_0)**2/(L*(4*R**2 + (L - 2*z + 2*z_0)**2)**(3/2))"
      ]
     },
     "execution_count": 7,
     "metadata": {},
     "output_type": "execute_result"
    }
   ],
   "source": [
    "D_2.simplify()"
   ]
  },
  {
   "cell_type": "markdown",
   "id": "79ec0153-7f56-4ee9-ad36-194e4263fe46",
   "metadata": {},
   "source": [
    "## Segunda forma"
   ]
  },
  {
   "cell_type": "code",
   "execution_count": 8,
   "id": "407c28f1-a5af-4706-90b4-e1cc5f1e47c0",
   "metadata": {},
   "outputs": [],
   "source": [
    "# Define símbolos\n",
    "mu_0, N, I, L, R, a, b = smp.symbols(r\"\\mu_0 N I L R a b\", real=True)"
   ]
  },
  {
   "cell_type": "code",
   "execution_count": 9,
   "id": "54be35af-224f-4fae-91a3-f19bfd8ce9e0",
   "metadata": {},
   "outputs": [],
   "source": [
    "# Define magnitudes secundáreas\n",
    "A = smp.sqrt(a**2 + R**2)\n",
    "B = smp.sqrt(b**2 + R**2)"
   ]
  },
  {
   "cell_type": "code",
   "execution_count": 10,
   "id": "ececa9a7-c03b-414c-b8ce-ecb32c55611e",
   "metadata": {},
   "outputs": [
    {
     "data": {
      "text/latex": [
       "$\\displaystyle \\frac{I N \\mu_{0} \\left(\\frac{a}{\\sqrt{R^{2} + a^{2}}} - \\frac{b}{\\sqrt{R^{2} + b^{2}}}\\right)}{2 L}$"
      ],
      "text/plain": [
       "I*N*\\mu_0*(a/sqrt(R**2 + a**2) - b/sqrt(R**2 + b**2))/(2*L)"
      ]
     },
     "execution_count": 10,
     "metadata": {},
     "output_type": "execute_result"
    }
   ],
   "source": [
    "# Define el campo\n",
    "campo = (mu_0/2)*(N*I/L)*(a/A - b/B)\n",
    "campo"
   ]
  },
  {
   "cell_type": "markdown",
   "id": "1a03276a-1def-433a-8983-dfc93f8800a6",
   "metadata": {},
   "source": [
    "$\\frac{da}{dz_0} = -1$ y $\\frac{db}{dz_0} = -1$, por lo que aplicamos la regla de la cadena manualmente:"
   ]
  },
  {
   "cell_type": "code",
   "execution_count": 11,
   "id": "d71d9ae2-8e27-4101-a68f-c422a2a77ebd",
   "metadata": {},
   "outputs": [
    {
     "data": {
      "text/latex": [
       "$\\displaystyle - \\frac{I N \\mu_{0} \\left(- \\frac{a^{2}}{\\left(R^{2} + a^{2}\\right)^{\\frac{3}{2}}} + \\frac{1}{\\sqrt{R^{2} + a^{2}}}\\right)}{2 L} - \\frac{I N \\mu_{0} \\left(\\frac{b^{2}}{\\left(R^{2} + b^{2}\\right)^{\\frac{3}{2}}} - \\frac{1}{\\sqrt{R^{2} + b^{2}}}\\right)}{2 L}$"
      ],
      "text/plain": [
       "-I*N*\\mu_0*(-a**2/(R**2 + a**2)**(3/2) + 1/sqrt(R**2 + a**2))/(2*L) - I*N*\\mu_0*(b**2/(R**2 + b**2)**(3/2) - 1/sqrt(R**2 + b**2))/(2*L)"
      ]
     },
     "execution_count": 11,
     "metadata": {},
     "output_type": "execute_result"
    }
   ],
   "source": [
    "D_2 = campo.diff(a)*(-1) + campo.diff(b)*(-1)\n",
    "D_2"
   ]
  },
  {
   "cell_type": "code",
   "execution_count": 12,
   "id": "bb9a8bf3-cf94-410f-8c7c-36df15aefaf9",
   "metadata": {},
   "outputs": [
    {
     "data": {
      "text/latex": [
       "$\\displaystyle \\frac{I N R^{2} \\mu_{0}}{2 L \\left(R^{2} + b^{2}\\right)^{\\frac{3}{2}}} - \\frac{I N R^{2} \\mu_{0}}{2 L \\left(R^{2} + a^{2}\\right)^{\\frac{3}{2}}}$"
      ],
      "text/plain": [
       "I*N*R**2*\\mu_0/(2*L*(R**2 + b**2)**(3/2)) - I*N*R**2*\\mu_0/(2*L*(R**2 + a**2)**(3/2))"
      ]
     },
     "execution_count": 12,
     "metadata": {},
     "output_type": "execute_result"
    }
   ],
   "source": [
    "D_2.simplify()"
   ]
  },
  {
   "cell_type": "markdown",
   "id": "8ff75fd5-7087-4d9d-8381-3f598416c024",
   "metadata": {},
   "source": [
    "Podemos reescribir este resultado de la siguiente forma:\n",
    "\n",
    "$$\n",
    "    \\frac{\\mu_0}{2}\\frac{N I}{L}\\left((b^2 + R^2)^{-\\frac 3 2} - (a^2 + R^2)^{\\frac 3 2}\\right)\n",
    "$$"
   ]
  },
  {
   "cell_type": "code",
   "execution_count": null,
   "id": "d52ee52c-f4cf-46fb-ab75-ddc80c077cd5",
   "metadata": {},
   "outputs": [],
   "source": []
  }
 ],
 "metadata": {
  "kernelspec": {
   "display_name": "Python 3 (ipykernel)",
   "language": "python",
   "name": "python3"
  },
  "language_info": {
   "codemirror_mode": {
    "name": "ipython",
    "version": 3
   },
   "file_extension": ".py",
   "mimetype": "text/x-python",
   "name": "python",
   "nbconvert_exporter": "python",
   "pygments_lexer": "ipython3",
   "version": "3.8.3"
  }
 },
 "nbformat": 4,
 "nbformat_minor": 5
}
